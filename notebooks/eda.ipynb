{
 "cells": [
  {
   "cell_type": "code",
   "execution_count": null,
   "metadata": {},
   "outputs": [],
   "source": [
    "import os\n",
    "\n",
    "import numpy as np\n",
    "import pandas as pd\n",
    "import torch\n",
    "from matplotlib import pyplot as plt\n",
    "from mpl_toolkits.axes_grid1 import ImageGrid\n",
    "from PIL import Image\n",
    "from torchvision import transforms\n",
    "from torchvision.utils import make_grid"
   ]
  },
  {
   "cell_type": "code",
   "execution_count": null,
   "metadata": {},
   "outputs": [],
   "source": [
    "ROOT_DIR = \"data/world-championship-2023-embryo-classification/hvwc23\""
   ]
  },
  {
   "cell_type": "code",
   "execution_count": null,
   "metadata": {},
   "outputs": [],
   "source": [
    "train_df = pd.read_csv(os.path.join(ROOT_DIR, \"train.csv\"))"
   ]
  },
  {
   "cell_type": "code",
   "execution_count": null,
   "metadata": {},
   "outputs": [],
   "source": [
    "train_df.head()"
   ]
  },
  {
   "cell_type": "code",
   "execution_count": null,
   "metadata": {},
   "outputs": [],
   "source": [
    "train_df[\"Class\"].hist()\n",
    "plt.title(\"Class distribution\")\n",
    "plt.show()"
   ]
  },
  {
   "cell_type": "code",
   "execution_count": null,
   "metadata": {},
   "outputs": [],
   "source": [
    "test_df = pd.read_csv(os.path.join(ROOT_DIR, \"test.csv\"))"
   ]
  },
  {
   "cell_type": "code",
   "execution_count": null,
   "metadata": {},
   "outputs": [],
   "source": [
    "train_D3_df = train_df[train_df[\"Image\"].str.startswith(\"D3_\")]\n",
    "train_D5_df = train_df[~train_df[\"Image\"].str.startswith(\"D3_\")]"
   ]
  },
  {
   "cell_type": "code",
   "execution_count": null,
   "metadata": {},
   "outputs": [],
   "source": [
    "train_D3_df.shape[0], train_D5_df.shape[0]"
   ]
  },
  {
   "cell_type": "code",
   "execution_count": null,
   "metadata": {},
   "outputs": [],
   "source": [
    "test_D3_df = test_df[test_df[\"Image\"].str.startswith(\"D3_\")]\n",
    "test_D5_df = test_df[~test_df[\"Image\"].str.startswith(\"D3_\")]"
   ]
  },
  {
   "cell_type": "code",
   "execution_count": null,
   "metadata": {},
   "outputs": [],
   "source": [
    "test_D3_df.shape[0], test_D5_df.shape[0]"
   ]
  },
  {
   "cell_type": "code",
   "execution_count": null,
   "metadata": {},
   "outputs": [],
   "source": [
    "train_D3_df[\"Class\"].hist()\n",
    "plt.title(\"Class distribution in day 3\")\n",
    "plt.show()"
   ]
  },
  {
   "cell_type": "code",
   "execution_count": null,
   "metadata": {},
   "outputs": [],
   "source": [
    "train_D5_df[\"Class\"].hist()\n",
    "plt.title(\"Class distribution in day 5\")\n",
    "plt.show()"
   ]
  },
  {
   "cell_type": "markdown",
   "metadata": {},
   "source": [
    "Majority of examples from `good` class is from day-5 stage. If we take it into account, e.g. by making the classifier conditioned on a day of an image, the accuracy of our classifier should improve. "
   ]
  },
  {
   "cell_type": "markdown",
   "metadata": {},
   "source": [
    "## Visualize examples from both classes on day-3 and day-5 stages"
   ]
  },
  {
   "cell_type": "code",
   "execution_count": null,
   "metadata": {},
   "outputs": [],
   "source": [
    "rows_D3_not_good = train_D3_df.loc[train_D3_df[\"Class\"] == 0].sample(10)\n",
    "rows_D3_good = train_D3_df.loc[train_D3_df[\"Class\"] == 1].sample(10)\n",
    "\n",
    "images_D3_not_good = [\n",
    "    Image.open(os.path.join(ROOT_DIR, \"train\", p)) for p in rows_D3_not_good[\"Image\"].values\n",
    "]\n",
    "images_D3_good = [\n",
    "    Image.open(os.path.join(ROOT_DIR, \"train\", p)) for p in rows_D3_good[\"Image\"].values\n",
    "]"
   ]
  },
  {
   "cell_type": "markdown",
   "metadata": {},
   "source": [
    "### Day-3"
   ]
  },
  {
   "cell_type": "code",
   "execution_count": null,
   "metadata": {},
   "outputs": [],
   "source": [
    "fig = plt.figure(figsize=(20.0, 20.0))\n",
    "grid = ImageGrid(\n",
    "    fig,\n",
    "    111,\n",
    "    nrows_ncols=(2, 10),\n",
    "    axes_pad=0.2,\n",
    ")\n",
    "\n",
    "for i, (ax, im) in enumerate(zip(grid, images_D3_not_good + images_D3_good)):\n",
    "    im = im.resize((224, 224))\n",
    "    ax.imshow(im)\n",
    "    ax.axis(\"off\")\n",
    "\n",
    "    ax.set_title(\"not good\") if i < len(images_D3_not_good) else ax.set_title(\"good\")\n",
    "\n",
    "plt.show()"
   ]
  },
  {
   "cell_type": "markdown",
   "metadata": {},
   "source": [
    "### Day-5"
   ]
  },
  {
   "cell_type": "code",
   "execution_count": null,
   "metadata": {},
   "outputs": [],
   "source": [
    "rows_D5_not_good = train_D5_df.loc[train_D5_df[\"Class\"] == 0].sample(10)\n",
    "rows_D5_good = train_D5_df.loc[train_D5_df[\"Class\"] == 1].sample(10)\n",
    "\n",
    "images_D5_not_good = [\n",
    "    Image.open(os.path.join(ROOT_DIR, \"train\", p)) for p in rows_D5_not_good[\"Image\"].values\n",
    "]\n",
    "images_D5_good = [\n",
    "    Image.open(os.path.join(ROOT_DIR, \"train\", p)) for p in rows_D5_good[\"Image\"].values\n",
    "]"
   ]
  },
  {
   "cell_type": "code",
   "execution_count": null,
   "metadata": {},
   "outputs": [],
   "source": [
    "fig = plt.figure(figsize=(20.0, 20.0))\n",
    "grid = ImageGrid(\n",
    "    fig,\n",
    "    111,\n",
    "    nrows_ncols=(2, 10),\n",
    "    axes_pad=0.2,\n",
    ")\n",
    "\n",
    "for i, (ax, im) in enumerate(zip(grid, images_D5_not_good + images_D5_good)):\n",
    "    im = im.resize((224, 224))\n",
    "    ax.imshow(im)\n",
    "    ax.axis(\"off\")\n",
    "\n",
    "    ax.set_title(\"not good\") if i < len(images_D5_not_good) else ax.set_title(\"good\")\n",
    "\n",
    "plt.show()"
   ]
  },
  {
   "cell_type": "markdown",
   "metadata": {},
   "source": [
    "## Visualize augmentations"
   ]
  },
  {
   "cell_type": "code",
   "execution_count": null,
   "metadata": {},
   "outputs": [],
   "source": [
    "image_batch = [\n",
    "    Image.open(os.path.join(ROOT_DIR, \"train\", p)) for p in train_df.sample(40)[\"Image\"].values\n",
    "]"
   ]
  },
  {
   "cell_type": "code",
   "execution_count": null,
   "metadata": {},
   "outputs": [],
   "source": [
    "train_transforms = transforms.Compose(\n",
    "    [\n",
    "        transforms.Resize((256, 256)),\n",
    "        transforms.RandomHorizontalFlip(),\n",
    "        transforms.RandomVerticalFlip(),\n",
    "        transforms.RandomRotation(30),\n",
    "        transforms.RandomPerspective(),\n",
    "        transforms.ColorJitter(0.1, 0.1, 0.1, 0.1),\n",
    "        transforms.ToTensor(),\n",
    "        transforms.RandomErasing(),\n",
    "        transforms.Normalize([0.485, 0.456, 0.406], [0.229, 0.224, 0.225]),\n",
    "    ]\n",
    ")"
   ]
  },
  {
   "cell_type": "code",
   "execution_count": null,
   "metadata": {},
   "outputs": [],
   "source": [
    "transformed_batch = [train_transforms(im) for im in image_batch]"
   ]
  },
  {
   "cell_type": "code",
   "execution_count": null,
   "metadata": {},
   "outputs": [],
   "source": [
    "plt.figure(figsize=(10, 10))\n",
    "transformed_grid = make_grid(transformed_batch, nrow=10, normalize=True).permute(1, 2, 0)\n",
    "plt.imshow(transformed_grid)\n",
    "plt.show()"
   ]
  },
  {
   "cell_type": "code",
   "execution_count": null,
   "metadata": {},
   "outputs": [],
   "source": []
  }
 ],
 "metadata": {
  "kernelspec": {
   "display_name": "embryo_env",
   "language": "python",
   "name": "python3"
  },
  "language_info": {
   "codemirror_mode": {
    "name": "ipython",
    "version": 3
   },
   "file_extension": ".py",
   "mimetype": "text/x-python",
   "name": "python",
   "nbconvert_exporter": "python",
   "pygments_lexer": "ipython3",
   "version": "3.9.18"
  }
 },
 "nbformat": 4,
 "nbformat_minor": 2
}
